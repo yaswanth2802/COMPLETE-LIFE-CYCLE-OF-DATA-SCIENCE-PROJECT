{
 "cells": [
  {
   "cell_type": "markdown",
   "id": "530816c5",
   "metadata": {},
   "source": [
    "**Different data collection statergies**\n",
    "- surveys\n",
    "- from company side\n",
    "- 3rd party API's\n",
    "\n",
    "--------------------------------------------------------------------------------------------------------------------------\n",
    "\n",
    "**why some of the values missing in the data ?**\n",
    "- during the surveys some people may give the complete information or some may not give complete information due to their personal choise.for example in most of the cases girls don't want to mention their age where boys don't wan to mention their salary.\n",
    "\n",
    "----------------------------------------------------------------------------------------------------------------------\n",
    "\n",
    "**what are the types of missing data?**\n",
    "- continuous/ Discrete\n",
    "- Categorical\n",
    "\n",
    "-----------------------------------------------------------------------------------------------------------------------------\n",
    "**What are the different types of Missing Data?**                                                                               \n",
    "\n",
    "- **Missing Completely at Random (MCAR)**: A variable is missing completely at random (MCAR) if the probability of being missing is the same for all the observations. When data is MCAR, there is absolutely no relationship between the data missing and any other values, observed or missing, within the dataset. In other words, those missing data points are a random subset of the data. There is nothing systematic going on that makes some data more likely to be missing than other.\n",
    "\n",
    "- **Missing Data Not At Random(MNAR)**: Systematic missing Values There is absolutely some relationship between the data missing and any other values, observed or missing, within the dataset."
   ]
  },
  {
   "cell_type": "markdown",
   "id": "aed771fc",
   "metadata": {},
   "source": [
    "**All the techniques of handling ,missing values**\n",
    "- Mean/ Median/Mode replacement (Famous)\n",
    "- Random Sample Imputation (Famous)\n",
    "- Capturing NAN values with a new feature\n",
    "- End of Distribution imputation\n",
    "- Arbitrary imputation\n",
    "- Frequent categories imputation"
   ]
  },
  {
   "cell_type": "code",
   "execution_count": 50,
   "id": "481a3a60",
   "metadata": {},
   "outputs": [
    {
     "data": {
      "text/html": [
       "<div>\n",
       "<style scoped>\n",
       "    .dataframe tbody tr th:only-of-type {\n",
       "        vertical-align: middle;\n",
       "    }\n",
       "\n",
       "    .dataframe tbody tr th {\n",
       "        vertical-align: top;\n",
       "    }\n",
       "\n",
       "    .dataframe thead th {\n",
       "        text-align: right;\n",
       "    }\n",
       "</style>\n",
       "<table border=\"1\" class=\"dataframe\">\n",
       "  <thead>\n",
       "    <tr style=\"text-align: right;\">\n",
       "      <th></th>\n",
       "      <th>PassengerId</th>\n",
       "      <th>Survived</th>\n",
       "      <th>Pclass</th>\n",
       "      <th>Name</th>\n",
       "      <th>Sex</th>\n",
       "      <th>Age</th>\n",
       "      <th>SibSp</th>\n",
       "      <th>Parch</th>\n",
       "      <th>Ticket</th>\n",
       "      <th>Fare</th>\n",
       "      <th>Cabin</th>\n",
       "      <th>Embarked</th>\n",
       "    </tr>\n",
       "  </thead>\n",
       "  <tbody>\n",
       "    <tr>\n",
       "      <th>0</th>\n",
       "      <td>1</td>\n",
       "      <td>0</td>\n",
       "      <td>3</td>\n",
       "      <td>Braund, Mr. Owen Harris</td>\n",
       "      <td>male</td>\n",
       "      <td>22.0</td>\n",
       "      <td>1</td>\n",
       "      <td>0</td>\n",
       "      <td>A/5 21171</td>\n",
       "      <td>7.2500</td>\n",
       "      <td>NaN</td>\n",
       "      <td>S</td>\n",
       "    </tr>\n",
       "    <tr>\n",
       "      <th>1</th>\n",
       "      <td>2</td>\n",
       "      <td>1</td>\n",
       "      <td>1</td>\n",
       "      <td>Cumings, Mrs. John Bradley (Florence Briggs Th...</td>\n",
       "      <td>female</td>\n",
       "      <td>38.0</td>\n",
       "      <td>1</td>\n",
       "      <td>0</td>\n",
       "      <td>PC 17599</td>\n",
       "      <td>71.2833</td>\n",
       "      <td>C85</td>\n",
       "      <td>C</td>\n",
       "    </tr>\n",
       "    <tr>\n",
       "      <th>2</th>\n",
       "      <td>3</td>\n",
       "      <td>1</td>\n",
       "      <td>3</td>\n",
       "      <td>Heikkinen, Miss. Laina</td>\n",
       "      <td>female</td>\n",
       "      <td>26.0</td>\n",
       "      <td>0</td>\n",
       "      <td>0</td>\n",
       "      <td>STON/O2. 3101282</td>\n",
       "      <td>7.9250</td>\n",
       "      <td>NaN</td>\n",
       "      <td>S</td>\n",
       "    </tr>\n",
       "    <tr>\n",
       "      <th>3</th>\n",
       "      <td>4</td>\n",
       "      <td>1</td>\n",
       "      <td>1</td>\n",
       "      <td>Futrelle, Mrs. Jacques Heath (Lily May Peel)</td>\n",
       "      <td>female</td>\n",
       "      <td>35.0</td>\n",
       "      <td>1</td>\n",
       "      <td>0</td>\n",
       "      <td>113803</td>\n",
       "      <td>53.1000</td>\n",
       "      <td>C123</td>\n",
       "      <td>S</td>\n",
       "    </tr>\n",
       "    <tr>\n",
       "      <th>4</th>\n",
       "      <td>5</td>\n",
       "      <td>0</td>\n",
       "      <td>3</td>\n",
       "      <td>Allen, Mr. William Henry</td>\n",
       "      <td>male</td>\n",
       "      <td>35.0</td>\n",
       "      <td>0</td>\n",
       "      <td>0</td>\n",
       "      <td>373450</td>\n",
       "      <td>8.0500</td>\n",
       "      <td>NaN</td>\n",
       "      <td>S</td>\n",
       "    </tr>\n",
       "  </tbody>\n",
       "</table>\n",
       "</div>"
      ],
      "text/plain": [
       "   PassengerId  Survived  Pclass  \\\n",
       "0            1         0       3   \n",
       "1            2         1       1   \n",
       "2            3         1       3   \n",
       "3            4         1       1   \n",
       "4            5         0       3   \n",
       "\n",
       "                                                Name     Sex   Age  SibSp  \\\n",
       "0                            Braund, Mr. Owen Harris    male  22.0      1   \n",
       "1  Cumings, Mrs. John Bradley (Florence Briggs Th...  female  38.0      1   \n",
       "2                             Heikkinen, Miss. Laina  female  26.0      0   \n",
       "3       Futrelle, Mrs. Jacques Heath (Lily May Peel)  female  35.0      1   \n",
       "4                           Allen, Mr. William Henry    male  35.0      0   \n",
       "\n",
       "   Parch            Ticket     Fare Cabin Embarked  \n",
       "0      0         A/5 21171   7.2500   NaN        S  \n",
       "1      0          PC 17599  71.2833   C85        C  \n",
       "2      0  STON/O2. 3101282   7.9250   NaN        S  \n",
       "3      0            113803  53.1000  C123        S  \n",
       "4      0            373450   8.0500   NaN        S  "
      ]
     },
     "execution_count": 50,
     "metadata": {},
     "output_type": "execute_result"
    }
   ],
   "source": [
    "import pandas as pd #importing pandas library\n",
    "import numpy as np\n",
    "df=pd.read_csv(\"titanic.csv\") # reads the data into dataframe df\n",
    "df.head() #prints the first 5 rows\n"
   ]
  },
  {
   "cell_type": "code",
   "execution_count": 3,
   "id": "9be4a98e",
   "metadata": {},
   "outputs": [
    {
     "data": {
      "text/plain": [
       "PassengerId      0\n",
       "Survived         0\n",
       "Pclass           0\n",
       "Name             0\n",
       "Sex              0\n",
       "Age            177\n",
       "SibSp            0\n",
       "Parch            0\n",
       "Ticket           0\n",
       "Fare             0\n",
       "Cabin          687\n",
       "Embarked         2\n",
       "dtype: int64"
      ]
     },
     "execution_count": 3,
     "metadata": {},
     "output_type": "execute_result"
    }
   ],
   "source": [
    "df.isnull().sum() # gives the total number of missing records \n"
   ]
  },
  {
   "cell_type": "markdown",
   "id": "3fde5ab2",
   "metadata": {},
   "source": [
    "Here \"Age\" & \"Cabin\" is not Missing Completely at Random (MCAR), it is Missing Data Not At Random(MNAR). cz there is a relationship between them. But here Embarked is Missing Completely at Random (MCAR).cz there is no relationship with others."
   ]
  },
  {
   "cell_type": "code",
   "execution_count": 6,
   "id": "c0a215be",
   "metadata": {},
   "outputs": [
    {
     "name": "stdout",
     "output_type": "stream",
     "text": [
      "<class 'pandas.core.frame.DataFrame'>\n",
      "RangeIndex: 891 entries, 0 to 890\n",
      "Data columns (total 12 columns):\n",
      " #   Column       Non-Null Count  Dtype  \n",
      "---  ------       --------------  -----  \n",
      " 0   PassengerId  891 non-null    int64  \n",
      " 1   Survived     891 non-null    int64  \n",
      " 2   Pclass       891 non-null    int64  \n",
      " 3   Name         891 non-null    object \n",
      " 4   Sex          891 non-null    object \n",
      " 5   Age          714 non-null    float64\n",
      " 6   SibSp        891 non-null    int64  \n",
      " 7   Parch        891 non-null    int64  \n",
      " 8   Ticket       891 non-null    object \n",
      " 9   Fare         891 non-null    float64\n",
      " 10  Cabin        204 non-null    object \n",
      " 11  Embarked     889 non-null    object \n",
      "dtypes: float64(2), int64(5), object(5)\n",
      "memory usage: 83.7+ KB\n"
     ]
    }
   ],
   "source": [
    "df.info()"
   ]
  },
  {
   "cell_type": "markdown",
   "id": "064acfd1",
   "metadata": {},
   "source": [
    "from above info we can get that age is a numerical data and Cabin,Embarked are categorical data "
   ]
  },
  {
   "cell_type": "markdown",
   "id": "64af94c3",
   "metadata": {},
   "source": [
    "# Mean/ Median /Mode imputation\n",
    "\n",
    "**Mean**:it is a measure of central tendency of a probability distribution along median and mode. It is also referred to as an expected value.\n",
    "\n",
    "**Median**:it is the middle number in a sorted list of numbers.\n",
    "\n",
    "**Mode**:it is the value that appears most frequently in a data set.\n",
    "\n",
    "**When should we apply?**\n",
    "- Mean/median imputation has the assumption that the data are missing completely at random(MCAR). We solve this by replacing the NAN with the most frequent occurance of the variables"
   ]
  },
  {
   "cell_type": "markdown",
   "id": "0b288df3",
   "metadata": {},
   "source": [
    "- we can replace the missing data with MEAN when the data is symmetric(that means not skewed) and we can apply this method only on numerical data only.\n",
    "\n",
    "- we can replace the missing data with MEDIAN when the data is not symmetric(that means skewed) and we can apply this method only on numerical data only.\n",
    "\n",
    "- we can replace the missing data with MODE when the data is not symmetric(that means skewed) and we can apply this method on both numerical data and categorical data."
   ]
  },
  {
   "cell_type": "markdown",
   "id": "5d900d53",
   "metadata": {},
   "source": [
    "in this example Age is a numerical data and "
   ]
  },
  {
   "cell_type": "code",
   "execution_count": 16,
   "id": "1750d094",
   "metadata": {},
   "outputs": [],
   "source": [
    "import matplotlib.pyplot as plt\n",
    "%matplotlib inline"
   ]
  },
  {
   "cell_type": "code",
   "execution_count": 17,
   "id": "b5675dcd",
   "metadata": {},
   "outputs": [
    {
     "data": {
      "text/plain": [
       "<AxesSubplot:ylabel='Density'>"
      ]
     },
     "execution_count": 17,
     "metadata": {},
     "output_type": "execute_result"
    },
    {
     "data": {
      "image/png": "[encoded data removed]",
      "text/plain": [
       "<Figure size 432x288 with 1 Axes>"
      ]
     },
     "metadata": {
      "needs_background": "light"
     },
     "output_type": "display_data"
    }
   ],
   "source": [
    "fig = plt.figure()\n",
    "ax = fig.add_subplot(111)\n",
    "df['Age'].plot(kind='kde', ax=ax)  "
   ]
  },
  {
   "cell_type": "markdown",
   "id": "2adf172a",
   "metadata": {},
   "source": [
    "from the above fig we can see the that the data is symmetric so we can use median for replacing the missing values in Age"
   ]
  },
  {
   "cell_type": "code",
   "execution_count": 18,
   "id": "15931764",
   "metadata": {},
   "outputs": [],
   "source": [
    "median=df.Age.median  # method to calculate median"
   ]
  },
  {
   "cell_type": "code",
   "execution_count": 19,
   "id": "dd3fa065",
   "metadata": {},
   "outputs": [],
   "source": [
    "# this is the function for filling the missing values with median\n",
    "def impute_nan(df,variable,median):\n",
    "    df[variable+\"_median\"]=df[variable].fillna(median) #this will fill the median in the place of nan and store it in df[variable+\"_median\"]"
   ]
  },
  {
   "cell_type": "markdown",
   "id": "3154378d",
   "metadata": {},
   "source": [
    "- as we know that the Cabin,Embarked are categorical data we need to fill these values with mode"
   ]
  },
  {
   "cell_type": "code",
   "execution_count": 20,
   "id": "09de63db",
   "metadata": {},
   "outputs": [],
   "source": [
    "# this is the function for filling the missing values with mode\n",
    "def impute_nan(df,variable,mode):\n",
    "    df[variable+\"_mode\"]=df[variable].fillna(mode)"
   ]
  },
  {
   "cell_type": "markdown",
   "id": "8966f3c2",
   "metadata": {},
   "source": [
    "**Advantages**\n",
    "- Easy to implement(Robust to outliers)\n",
    "- Faster way to obtain the complete dataset \n",
    "\n",
    "**Disadvantages**\n",
    "- Change or Distortion in the original variance\n",
    "- Impacts Correlation"
   ]
  },
  {
   "cell_type": "markdown",
   "id": "5178eaf3",
   "metadata": {},
   "source": [
    "# Random Sample Imputation\n",
    "\n",
    "- Random sampling consists of taking a random observation from the pool of available observations of the variable and using those randomly selected values to fill in the missing ones.\n",
    "\n",
    "- This method is suitable for numerical and categorical variables.\n",
    "\n",
    "**Assumptions of random sample imputation**\n",
    "- Data is missing at random.\n",
    "- We’re replacing the missing values with other values within the same distribution of the original variable."
   ]
  },
  {
   "cell_type": "code",
   "execution_count": 22,
   "id": "c1f21874",
   "metadata": {},
   "outputs": [
    {
     "data": {
      "text/plain": [
       "423    28.0\n",
       "Name: Age, dtype: float64"
      ]
     },
     "execution_count": 22,
     "metadata": {},
     "output_type": "execute_result"
    }
   ],
   "source": [
    "#df[\"Age\"].dropna()   #this will drop all nan values\n",
    "df[\"Age\"].dropna().sample(random_state=0)  #this will give a row number of the nan value and the nan is filled with some random value\n",
    "\n",
    "#that means 423 is a row where a nan value is present  and 28 is a age which is selected from the dataset at randomand and filled the position of nan value at row 423"
   ]
  },
  {
   "cell_type": "code",
   "execution_count": 23,
   "id": "8becd459",
   "metadata": {},
   "outputs": [
    {
     "data": {
      "text/plain": [
       "423    28.00\n",
       "177    50.00\n",
       "305     0.92\n",
       "292    36.00\n",
       "889    26.00\n",
       "       ...  \n",
       "539    22.00\n",
       "267    25.00\n",
       "352    15.00\n",
       "99     34.00\n",
       "689    15.00\n",
       "Name: Age, Length: 177, dtype: float64"
      ]
     },
     "execution_count": 23,
     "metadata": {},
     "output_type": "execute_result"
    }
   ],
   "source": [
    "random_sample=df[\"Age\"].dropna().sample(df[\"Age\"].isnull().sum(),random_state=0)\n",
    "\n",
    "#this will fill all the rows, which have missing values with the ronadom data from the dataset and store it in random_sample"
   ]
  },
  {
   "cell_type": "markdown",
   "id": "3475a156",
   "metadata": {},
   "source": [
    "in order to merge with the data frame the both random_sample and the data frame must have same index\n",
    "\n",
    "step1\n",
    "df[\"Age_random\"]=df[\"Age\"] -coping the data from Age and storing it in Age_random\n",
    "\n",
    "step 2\n",
    "random_sample=df[\"Age\"].dropna().sample(df[\"Age\"].isnull().sum(),random_state=0)\n",
    "\n",
    "step 3\n",
    "random_sample.index=df[df[\"Age\"].isnull()].index - ordering the index in random_sample similar to df[\"Age\"]\n",
    "\n",
    "step 4\n",
    "df.loc[df[\"Age\"].isnull(),\"Age_random\"]=random_sample - replacing all the nan values in Agr_random with the values in random_sample which are already ordered"
   ]
  },
  {
   "cell_type": "markdown",
   "id": "5e2c0823",
   "metadata": {},
   "source": [
    "**Advantages of random sample imputation**\n",
    "- Easy to implement and a fast way of obtaining complete datasets.\n",
    "- It can be used in production.\n",
    "- Preserves the variance of the variable.\n",
    "\n",
    "**Disadvantages of random sample imputation**\n",
    "- Randomness.\n",
    "- The relationship between imputed variables and other variables may be affected if there are a lot of missing values.\n",
    "- Memory is massive for deployment, as we need to store the original training set to extract values from, and replace the missing values with the randomly selected values."
   ]
  },
  {
   "cell_type": "markdown",
   "id": "62b502f3",
   "metadata": {},
   "source": [
    "# Capturing NAN values with a new feature"
   ]
  },
  {
   "cell_type": "markdown",
   "id": "d8d14782",
   "metadata": {},
   "source": [
    "**A missing indicator is an additional binary variable that indicates whether the data was missing for an observation (1) or not (0). The goal here is to capture observations where data is missing.**\n",
    "\n",
    "\n",
    "The missing indicator is used together with methods that assume data is missing at random:\n",
    "- Mean, median, mode imputation.\n",
    "- Random sample imputation.\n",
    "\n",
    "\n",
    "**This method is suitable for categorical and numerical variables.**"
   ]
  },
  {
   "cell_type": "code",
   "execution_count": 51,
   "id": "1d059404",
   "metadata": {},
   "outputs": [],
   "source": [
    "df['Age_NAN']=np.where(df['Age'].isnull(),1,0) #here we are catching the Importance of missing value in the age_NAN colum\n",
    "\n",
    "# as i mentioned above this method is used with one of the methods like Mean, median, mode imputatio,Random sample imputation."
   ]
  },
  {
   "cell_type": "markdown",
   "id": "a89c43d3",
   "metadata": {},
   "source": [
    "**Advantages of missing indicator**\n",
    "- Easy to implement.\n",
    "- It can capture the importance of missing data.\n",
    "- It can be integrated into production.\n",
    "\n",
    "**Disadvantages of missing indicator**\n",
    "- It expands the feature space.\n",
    "- The original variable still needs to be imputed.\n",
    "- Many missing indicators may end up being identical or very highly correlated."
   ]
  },
  {
   "cell_type": "markdown",
   "id": "29fc3f5c",
   "metadata": {},
   "source": [
    "# End of Distribution imputation¶\n",
    "\n",
    "**It works well if the data are not missing completely at random. If there is suspicion that the missing value is not at random then capturing that information is important. In this scenario, one would want to replace missing data with values that are at the tails of the distribution of the variable.**"
   ]
  },
  {
   "cell_type": "markdown",
   "id": "fad0fb64",
   "metadata": {},
   "source": [
    "**his method is suitable for numerical variables.**\n",
    "\n",
    "\n",
    "**Here are ways to select arbitrary values:**\n",
    "\n",
    "- If the variable follows a normal distribution, we can use the mean plus or minus 3 times the standard deviation.\n",
    "- If the variable is skewed, we can use the IQR proximity rule.\n",
    "\n",
    "**CAUTION**\n",
    "- The values to replace missing data should be calculated only on the train set."
   ]
  },
  {
   "cell_type": "code",
   "execution_count": 53,
   "id": "a1c68450",
   "metadata": {},
   "outputs": [],
   "source": [
    "extreme=df.Age.mean()+3*df.Age.std() # extreme =mean+3*standard deviation\n",
    "df[\"Age_end_distribution\"]=df[\"Age\"].fillna(extreme) # creating new variable and storing the values in the new variable"
   ]
  },
  {
   "cell_type": "markdown",
   "id": "bf81dcd6",
   "metadata": {},
   "source": [
    "**Normal Distribution**\n",
    "- Most of the observations (~99%) of a normally-distributed variable lie within the mean plus/minus three times standard deviations—for that the selected value = mean ± 3 ×standard deviations.\n",
    "\n",
    "**Skewed distributions**\n",
    "- The general approach is to calculate the quantiles, and then the inter-quantile range (IQR), as follows:\n",
    "- IQR = 75th Quantile –25th Quantile.\n",
    "- Upper limit = 75th Quantile + IQR ×3.\n",
    "- Lower limit = 25th Quantile - IQR ×3."
   ]
  },
  {
   "cell_type": "markdown",
   "id": "b2223277",
   "metadata": {},
   "source": [
    "**Advantages**\n",
    "- Easy to implement\n",
    "- Capture the importance of missingness if there is one\n",
    "\n",
    "**Disadvantages**\n",
    "- Distorts the original distribution of variable\n",
    "- if missingness is not important, It may mask the predictive power of original variable by distoring its distribution\n",
    "- If the number of NA is big, It will mask outlier in distribution\n",
    "- If the number of NA is small, The replaced Na maybe considered an outlier"
   ]
  },
  {
   "cell_type": "markdown",
   "id": "77bb6b4d",
   "metadata": {},
   "source": [
    "# Frequent category imputation\n",
    "**Frequent category imputation—or mode imputation—consists of replacing all occurrences of missing values (NA) within a variable with the mode, or the most frequent value.**\n",
    "\n",
    "- This method is suitable for numerical and categorical variables, but in practice, we use this technique with categorical variables.\n",
    "\n",
    "- You can use this method when data is missing completely at random, and no more than 5% of the variable contains missing data."
   ]
  },
  {
   "cell_type": "markdown",
   "id": "52133b07",
   "metadata": {},
   "source": [
    "**Assumptions of frequent category imputation**\n",
    "- Data is missing at random.\n",
    "- The missing observations most likely look like the majority of the observations \n",
    "\n",
    "**the code will same like replacing nan values with mode**"
   ]
  },
  {
   "cell_type": "markdown",
   "id": "9fea4d94",
   "metadata": {},
   "source": [
    "**Advantages of frequent category imputation**\n",
    "- Easy to implement.\n",
    "- It’s a fast way to obtain a complete dataset.\n",
    "- It can be used in production, i.e during model deployment.\n",
    "\n",
    "**Disadvantages of frequent category imputation**\n",
    "- It distorts the relation of the most frequent label with other variables within the dataset.\n",
    "- May lead to an over-representation of the most frequent label if there is are a lot of missing observations."
   ]
  },
  {
   "cell_type": "markdown",
   "id": "de024229",
   "metadata": {},
   "source": [
    "# Arbitrary imputation\n",
    "\n",
    "**Assumptions of arbitrary value imputation**\n",
    "- Data is not missing at random.\n",
    "\n",
    "\n",
    "**the code will same like replacing nan values with mean or median.**\n",
    "\n",
    "**Advantages of arbitrary value imputation**\n",
    "- Easy to implement.\n",
    "- It’s a fast way to obtain complete datasets.\n",
    "- It can be used in production, i.e during model deployment.\n",
    "- It captures the importance of a value being “missing”, if there is one.\n",
    "\n",
    "**Limitations arbitrary value imputation**\n",
    "- Distortion of the original variable distribution and variance.\n",
    "- Distortion of the covariance with the remaining dataset variables.\n",
    "- If the arbitrary value is at the end of the distribution, it may mask or create outliers.\n",
    "- The higher the percentage of NA, the higher the distortions.\n",
    "\n",
    "**CAUTION**\n",
    "- We need to be careful not to choose an arbitrary value too similar to the mean or median (or any other typical value of the variable distribution).\n"
   ]
  }
 ],
 "metadata": {
  "kernelspec": {
   "display_name": "Python 3",
   "language": "python",
   "name": "python3"
  },
  "language_info": {
   "codemirror_mode": {
    "name": "ipython",
    "version": 3
   },
   "file_extension": ".py",
   "mimetype": "text/x-python",
   "name": "python",
   "nbconvert_exporter": "python",
   "pygments_lexer": "ipython3",
   "version": "3.7.10"
  }
 },
 "nbformat": 4,
 "nbformat_minor": 5
}
